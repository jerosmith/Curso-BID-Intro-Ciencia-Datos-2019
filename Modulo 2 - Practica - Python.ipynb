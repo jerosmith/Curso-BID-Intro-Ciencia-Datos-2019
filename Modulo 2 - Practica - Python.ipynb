{
 "cells": [
  {
   "cell_type": "markdown",
   "metadata": {},
   "source": [
    "# Introducción a la Ciencia de Datos\n",
    "# Módulo 2 – Introducción a la Minería de datos con Python"
   ]
  },
  {
   "cell_type": "markdown",
   "metadata": {},
   "source": [
    "## Diferencia entre minería de datos y machine learning\n",
    "Aunque los algoritmos muchas veces sean los mismos, el **enfoque** es distinto.\n",
    "\n",
    "En minería de datos el objetivo es **comprender** y tener una **intuición** por el fenómeno.\n",
    "\n",
    "En cambio, con machine learning la prioridad es la predicción con la mayor precisión posible, por sobre comprender cabalmente el fenómeno.\n",
    "\n",
    "Por consiguiente, en minería de datos, algunas de las técnicas y aspectos de ellas que nos interesan, son las siguientes:\n",
    "\n",
    "- Visualización: histogramas y gráficos de dispersión\n",
    "- Clusterización con k-means\n",
    "- Regresión lineal: coeficientes\n",
    "- Regresión logística: coeficientes\n",
    "- Arbol de decisión: conocimiento de los nodos\n",
    "\n",
    "En los ejercicios de hoy veremos los dos primeros: visualización y k-means."
   ]
  },
  {
   "cell_type": "markdown",
   "metadata": {},
   "source": [
    "## Histograma\n",
    "Un histograma es un tipo de gráfico que nos permite ver como una variable numérica está distribuida entre distintas cantidades.\n",
    "\n",
    "Para hacer gráficos en Python usamos el paquete matplotlib.\n",
    "\n",
    "Vamos a usar un conjunto de datos con estadísticas de pobreza y salud por comuna de Chile, obtenido del Instituto Nacional de Estadísticas (INE)."
   ]
  },
  {
   "cell_type": "code",
   "execution_count": 149,
   "metadata": {},
   "outputs": [
    {
     "data": {
      "text/plain": [
       "(array([16., 66., 75., 90., 51., 27., 14.,  4.,  1.,  1.]),\n",
       " array([ 0.1 ,  4.97,  9.84, 14.71, 19.58, 24.45, 29.32, 34.19, 39.06,\n",
       "        43.93, 48.8 ]),\n",
       " <a list of 10 Patch objects>)"
      ]
     },
     "execution_count": 149,
     "metadata": {},
     "output_type": "execute_result"
    },
    {
     "data": {
      "image/png": "[encoded data removed]",
      "text/plain": [
       "<Figure size 432x288 with 1 Axes>"
      ]
     },
     "metadata": {
      "needs_background": "light"
     },
     "output_type": "display_data"
    }
   ],
   "source": [
    "# Paquetes:\n",
    "import pandas as pd\n",
    "import matplotlib.pyplot as plt\n",
    "\n",
    "# Cargar conjunto datos en data frame:\n",
    "df = pd.read_csv(  filepath_or_buffer = \"C:\\\\_A\\\\1 Work\\\\01 CIAE\\\\02 Curso BID\\\\Datos\\\\Pobreza_Salud.csv\"\n",
    "                 , sep = \";\"\n",
    "                 , decimal = \",\"\n",
    "                 )\n",
    "\n",
    "# Crear histograma de PctPobreza (% de personas en pobreza):\n",
    "plt.hist(x = df[\"PctPobreza\"])"
   ]
  },
  {
   "cell_type": "markdown",
   "metadata": {},
   "source": [
    "## Gráfico de dispersión (scatterplot)\n",
    "Un gráfico de dispersión o \"scatterplot\" nos muestra, para un conjunto de observaciones, la relación entre dos variables numéricas. Las variables están en los ejes x e y, y cada punto es una observación.\n",
    "\n",
    "Crearemos un gráfico de dispersión entre las variables % de pobreza y % de obesidad, para visualizar alguna relación (si existe)."
   ]
  },
  {
   "cell_type": "code",
   "execution_count": 150,
   "metadata": {},
   "outputs": [
    {
     "data": {
      "text/plain": [
       "<matplotlib.collections.PathCollection at 0x18d4e062320>"
      ]
     },
     "execution_count": 150,
     "metadata": {},
     "output_type": "execute_result"
    },
    {
     "data": {
      "image/png": "[encoded data removed]",
      "text/plain": [
       "<Figure size 432x288 with 1 Axes>"
      ]
     },
     "metadata": {
      "needs_background": "light"
     },
     "output_type": "display_data"
    }
   ],
   "source": [
    "# Crear gráfico de dispersión:\n",
    "plt.scatter(x = df[\"PctPobreza\"], y = df[\"PctObesidadInfantil\"], s = 8, color = \"red\")\n",
    "#?plt.scatter"
   ]
  },
  {
   "cell_type": "markdown",
   "metadata": {},
   "source": [
    "Observamos que no parece haber mucha correlación a nivel comunal entre tasa de pobreza y tasa de obesidad infantil.\n",
    "\n",
    "En cambio, exploremos ahora la relación entre la pobreza y la remuneración media."
   ]
  },
  {
   "cell_type": "code",
   "execution_count": 151,
   "metadata": {},
   "outputs": [
    {
     "data": {
      "text/plain": [
       "<matplotlib.collections.PathCollection at 0x18d4e0b6be0>"
      ]
     },
     "execution_count": 151,
     "metadata": {},
     "output_type": "execute_result"
    },
    {
     "data": {
      "image/png": "[encoded data removed]",
      "text/plain": [
       "<Figure size 432x288 with 1 Axes>"
      ]
     },
     "metadata": {
      "needs_background": "light"
     },
     "output_type": "display_data"
    }
   ],
   "source": [
    "plt.scatter(x = df[\"PctPobreza\"], y = df[\"RemunMedia\"], s = 8, color = \"red\")"
   ]
  },
  {
   "cell_type": "markdown",
   "metadata": {},
   "source": [
    "Observamos que las comunas con bajo porcentaje de pobreza tienen más varianza (dispersión) de ingresos medios; en cambio las comunas con alta tasa de pobreza tienen son más similares entre sí, de baja remuneración media."
   ]
  },
  {
   "cell_type": "markdown",
   "metadata": {},
   "source": [
    "## Clustering con k-means\n",
    "El clustering consiste en agrupar un conjunto de entidades en grupos que son similares entre sí, por ejemplo, personas, comunas, trayectorias educativas, casos de enfermedades, etc. El objetivo es aumentar la comprensión del fenómeno al observar las características en común que tienen los clusters o grupos.\n",
    "\n",
    "Uno de los algoritmos de clusterización más usados es el k-means. Veamos a continuación como funciona.\n",
    "\n",
    "Primero, necesitamos el concepto de distancia euclidiana en un espacio de n dimensiones.\n",
    "\n",
    "Suponemos que en nuestros datos de entidades que queremos clusterizar, tenemos una cantidad, digamos n, de características, o variables, de ellas. Por ejemplo, si son personas, podríamos tener su edad, sus ingresos, sus años de escolaridad, etc. Cada variable ocupa una dimensión en un espacio de n dimensiones. Por consiguiente, cada entidad, u observación, está representada por un punto en este espacio multidimensional, donde sus coordenadas son los valores de sus características o variables.\n",
    "\n",
    "La distance euclidiana entre dos puntos de este espacio multidimensional se deduce del teorema de Pitágoras, y está dada por:\n",
    "\n",
    "D(X, Y) = √∑(xi-yi)2\n",
    "\n",
    "Intuitivamente, el algoritmo k-means busca asignar a cada punto en un cluster de tal manera que los puntos en un mismo cluster queden muy cerca entre sí, en otras palabras, buscar minimizar el total de distancias intra-cluster.\n",
    "\n",
    "El algoritmo funciona paso a paso de la siguiente manera:\n",
    "\n",
    "1. El usuario tiene que decidir cuantos clusters quiere, es decir, asigna un valor al número de clusters, k.\n",
    "2. El algoritmo genera al azar k centroides, esto es, k puntos candidatos de centros de clusters.\n",
    "3. Para cada punto, lo asigna al centroide más cercano.\n",
    "4. Para cada cluster así generado, calcula su nuevo centroide, como la media de cada una de las características de todos los puntos del cluster.\n",
    "5. Repite los pasos (3) y (4) iterativamente, hasta que los centroides ya no cambian.\n",
    "\n",
    "Veamos un ejemplo con un conjunto de datos de flores. Cada ejemplar tiene 4 variables: longitudes y anchos de pétalos y sépalos."
   ]
  },
  {
   "cell_type": "code",
   "execution_count": 152,
   "metadata": {},
   "outputs": [
    {
     "name": "stdout",
     "output_type": "stream",
     "text": [
      "     Sepal.Length  Sepal.Width  Petal.Length  Petal.Width    Species\n",
      "0             5.1          3.5           1.4          0.2     setosa\n",
      "1             4.9          3.0           1.4          0.2     setosa\n",
      "2             4.7          3.2           1.3          0.2     setosa\n",
      "3             4.6          3.1           1.5          0.2     setosa\n",
      "4             5.0          3.6           1.4          0.2     setosa\n",
      "5             5.4          3.9           1.7          0.4     setosa\n",
      "6             4.6          3.4           1.4          0.3     setosa\n",
      "7             5.0          3.4           1.5          0.2     setosa\n",
      "8             4.4          2.9           1.4          0.2     setosa\n",
      "9             4.9          3.1           1.5          0.1     setosa\n",
      "10            5.4          3.7           1.5          0.2     setosa\n",
      "11            4.8          3.4           1.6          0.2     setosa\n",
      "12            4.8          3.0           1.4          0.1     setosa\n",
      "13            4.3          3.0           1.1          0.1     setosa\n",
      "14            5.8          4.0           1.2          0.2     setosa\n",
      "15            5.7          4.4           1.5          0.4     setosa\n",
      "16            5.4          3.9           1.3          0.4     setosa\n",
      "17            5.1          3.5           1.4          0.3     setosa\n",
      "18            5.7          3.8           1.7          0.3     setosa\n",
      "19            5.1          3.8           1.5          0.3     setosa\n",
      "20            5.4          3.4           1.7          0.2     setosa\n",
      "21            5.1          3.7           1.5          0.4     setosa\n",
      "22            4.6          3.6           1.0          0.2     setosa\n",
      "23            5.1          3.3           1.7          0.5     setosa\n",
      "24            4.8          3.4           1.9          0.2     setosa\n",
      "25            5.0          3.0           1.6          0.2     setosa\n",
      "26            5.0          3.4           1.6          0.4     setosa\n",
      "27            5.2          3.5           1.5          0.2     setosa\n",
      "28            5.2          3.4           1.4          0.2     setosa\n",
      "29            4.7          3.2           1.6          0.2     setosa\n",
      "..            ...          ...           ...          ...        ...\n",
      "120           6.9          3.2           5.7          2.3  virginica\n",
      "121           5.6          2.8           4.9          2.0  virginica\n",
      "122           7.7          2.8           6.7          2.0  virginica\n",
      "123           6.3          2.7           4.9          1.8  virginica\n",
      "124           6.7          3.3           5.7          2.1  virginica\n",
      "125           7.2          3.2           6.0          1.8  virginica\n",
      "126           6.2          2.8           4.8          1.8  virginica\n",
      "127           6.1          3.0           4.9          1.8  virginica\n",
      "128           6.4          2.8           5.6          2.1  virginica\n",
      "129           7.2          3.0           5.8          1.6  virginica\n",
      "130           7.4          2.8           6.1          1.9  virginica\n",
      "131           7.9          3.8           6.4          2.0  virginica\n",
      "132           6.4          2.8           5.6          2.2  virginica\n",
      "133           6.3          2.8           5.1          1.5  virginica\n",
      "134           6.1          2.6           5.6          1.4  virginica\n",
      "135           7.7          3.0           6.1          2.3  virginica\n",
      "136           6.3          3.4           5.6          2.4  virginica\n",
      "137           6.4          3.1           5.5          1.8  virginica\n",
      "138           6.0          3.0           4.8          1.8  virginica\n",
      "139           6.9          3.1           5.4          2.1  virginica\n",
      "140           6.7          3.1           5.6          2.4  virginica\n",
      "141           6.9          3.1           5.1          2.3  virginica\n",
      "142           5.8          2.7           5.1          1.9  virginica\n",
      "143           6.8          3.2           5.9          2.3  virginica\n",
      "144           6.7          3.3           5.7          2.5  virginica\n",
      "145           6.7          3.0           5.2          2.3  virginica\n",
      "146           6.3          2.5           5.0          1.9  virginica\n",
      "147           6.5          3.0           5.2          2.0  virginica\n",
      "148           6.2          3.4           5.4          2.3  virginica\n",
      "149           5.9          3.0           5.1          1.8  virginica\n",
      "\n",
      "[150 rows x 5 columns]\n"
     ]
    }
   ],
   "source": [
    "import pandas as pd\n",
    "df_iris = pd.read_csv(\"C:\\\\_A\\\\1 Work\\\\01 CIAE\\\\02 Curso BID\\\\Datos\\\\iris.csv\", sep = \";\", decimal = \",\")\n",
    "print(df_iris)"
   ]
  },
  {
   "cell_type": "markdown",
   "metadata": {},
   "source": [
    "Primero exploremos gráficamente los datos, a fin de visualizar intuitivamente posibles clusters. Como un gráfico solamente muestra dos dimensiones en forma espacial cada vez, y tenemos 4 variables, generaremos varios gráficos, seleccionando 2 de 4 variables cada vez."
   ]
  },
  {
   "cell_type": "code",
   "execution_count": 153,
   "metadata": {},
   "outputs": [
    {
     "data": {
      "text/plain": [
       "<matplotlib.collections.PathCollection at 0x18d4f0e5d68>"
      ]
     },
     "execution_count": 153,
     "metadata": {},
     "output_type": "execute_result"
    },
    {
     "data": {
      "image/png": "[encoded data removed]",
      "text/plain": [
       "<Figure size 432x288 with 1 Axes>"
      ]
     },
     "metadata": {
      "needs_background": "light"
     },
     "output_type": "display_data"
    }
   ],
   "source": [
    "import matplotlib.pyplot as plt\n",
    "plt.scatter(x = df_iris[\"Sepal.Length\"], y = df_iris[\"Petal.Length\"], s=16, c=\"red\")"
   ]
  },
  {
   "cell_type": "code",
   "execution_count": 154,
   "metadata": {},
   "outputs": [
    {
     "data": {
      "text/plain": [
       "<matplotlib.collections.PathCollection at 0x18d4f146978>"
      ]
     },
     "execution_count": 154,
     "metadata": {},
     "output_type": "execute_result"
    },
    {
     "data": {
      "image/png": "[encoded data removed]",
      "text/plain": [
       "<Figure size 432x288 with 1 Axes>"
      ]
     },
     "metadata": {
      "needs_background": "light"
     },
     "output_type": "display_data"
    }
   ],
   "source": [
    "plt.scatter(x = df_iris[\"Petal.Length\"], y = df_iris[\"Petal.Width\"], s=16, c=\"red\")"
   ]
  },
  {
   "cell_type": "code",
   "execution_count": 155,
   "metadata": {},
   "outputs": [
    {
     "data": {
      "text/plain": [
       "<matplotlib.collections.PathCollection at 0x18d4f1a1c50>"
      ]
     },
     "execution_count": 155,
     "metadata": {},
     "output_type": "execute_result"
    },
    {
     "data": {
      "image/png": "[encoded data removed]",
      "text/plain": [
       "<Figure size 432x288 with 1 Axes>"
      ]
     },
     "metadata": {
      "needs_background": "light"
     },
     "output_type": "display_data"
    }
   ],
   "source": [
    "plt.scatter(x = df_iris[\"Sepal.Length\"], y = df_iris[\"Petal.Width\"], s=16, c=\"red\")"
   ]
  },
  {
   "cell_type": "markdown",
   "metadata": {},
   "source": [
    "Ahora usemos el algoritmo KMeans del paquete scikit-learn. Generamos la clusterización y la guardamos en una variables que llamamos modelo."
   ]
  },
  {
   "cell_type": "code",
   "execution_count": 156,
   "metadata": {},
   "outputs": [],
   "source": [
    "from sklearn.cluster import KMeans\n",
    "df_iris_var = df_iris.loc[:, [\"Sepal.Length\", \"Sepal.Width\", \"Petal.Length\", \"Petal.Width\"]]\n",
    "modelo = KMeans(n_clusters = 3).fit(df_iris_var)"
   ]
  },
  {
   "cell_type": "markdown",
   "metadata": {},
   "source": [
    "Ahora usamos el modelo para asignar cada punto a un cluster, creando una nueva columna llamada \"Cluster\" en el data frame df_iris."
   ]
  },
  {
   "cell_type": "code",
   "execution_count": 157,
   "metadata": {},
   "outputs": [
    {
     "name": "stdout",
     "output_type": "stream",
     "text": [
      "     Sepal.Length  Sepal.Width  Petal.Length  Petal.Width    Species  Cluster\n",
      "0             5.1          3.5           1.4          0.2     setosa        0\n",
      "1             4.9          3.0           1.4          0.2     setosa        0\n",
      "2             4.7          3.2           1.3          0.2     setosa        0\n",
      "3             4.6          3.1           1.5          0.2     setosa        0\n",
      "4             5.0          3.6           1.4          0.2     setosa        0\n",
      "5             5.4          3.9           1.7          0.4     setosa        0\n",
      "6             4.6          3.4           1.4          0.3     setosa        0\n",
      "7             5.0          3.4           1.5          0.2     setosa        0\n",
      "8             4.4          2.9           1.4          0.2     setosa        0\n",
      "9             4.9          3.1           1.5          0.1     setosa        0\n",
      "10            5.4          3.7           1.5          0.2     setosa        0\n",
      "11            4.8          3.4           1.6          0.2     setosa        0\n",
      "12            4.8          3.0           1.4          0.1     setosa        0\n",
      "13            4.3          3.0           1.1          0.1     setosa        0\n",
      "14            5.8          4.0           1.2          0.2     setosa        0\n",
      "15            5.7          4.4           1.5          0.4     setosa        0\n",
      "16            5.4          3.9           1.3          0.4     setosa        0\n",
      "17            5.1          3.5           1.4          0.3     setosa        0\n",
      "18            5.7          3.8           1.7          0.3     setosa        0\n",
      "19            5.1          3.8           1.5          0.3     setosa        0\n",
      "20            5.4          3.4           1.7          0.2     setosa        0\n",
      "21            5.1          3.7           1.5          0.4     setosa        0\n",
      "22            4.6          3.6           1.0          0.2     setosa        0\n",
      "23            5.1          3.3           1.7          0.5     setosa        0\n",
      "24            4.8          3.4           1.9          0.2     setosa        0\n",
      "25            5.0          3.0           1.6          0.2     setosa        0\n",
      "26            5.0          3.4           1.6          0.4     setosa        0\n",
      "27            5.2          3.5           1.5          0.2     setosa        0\n",
      "28            5.2          3.4           1.4          0.2     setosa        0\n",
      "29            4.7          3.2           1.6          0.2     setosa        0\n",
      "..            ...          ...           ...          ...        ...      ...\n",
      "120           6.9          3.2           5.7          2.3  virginica        2\n",
      "121           5.6          2.8           4.9          2.0  virginica        1\n",
      "122           7.7          2.8           6.7          2.0  virginica        2\n",
      "123           6.3          2.7           4.9          1.8  virginica        1\n",
      "124           6.7          3.3           5.7          2.1  virginica        2\n",
      "125           7.2          3.2           6.0          1.8  virginica        2\n",
      "126           6.2          2.8           4.8          1.8  virginica        1\n",
      "127           6.1          3.0           4.9          1.8  virginica        1\n",
      "128           6.4          2.8           5.6          2.1  virginica        2\n",
      "129           7.2          3.0           5.8          1.6  virginica        2\n",
      "130           7.4          2.8           6.1          1.9  virginica        2\n",
      "131           7.9          3.8           6.4          2.0  virginica        2\n",
      "132           6.4          2.8           5.6          2.2  virginica        2\n",
      "133           6.3          2.8           5.1          1.5  virginica        1\n",
      "134           6.1          2.6           5.6          1.4  virginica        2\n",
      "135           7.7          3.0           6.1          2.3  virginica        2\n",
      "136           6.3          3.4           5.6          2.4  virginica        2\n",
      "137           6.4          3.1           5.5          1.8  virginica        2\n",
      "138           6.0          3.0           4.8          1.8  virginica        1\n",
      "139           6.9          3.1           5.4          2.1  virginica        2\n",
      "140           6.7          3.1           5.6          2.4  virginica        2\n",
      "141           6.9          3.1           5.1          2.3  virginica        2\n",
      "142           5.8          2.7           5.1          1.9  virginica        1\n",
      "143           6.8          3.2           5.9          2.3  virginica        2\n",
      "144           6.7          3.3           5.7          2.5  virginica        2\n",
      "145           6.7          3.0           5.2          2.3  virginica        2\n",
      "146           6.3          2.5           5.0          1.9  virginica        1\n",
      "147           6.5          3.0           5.2          2.0  virginica        2\n",
      "148           6.2          3.4           5.4          2.3  virginica        2\n",
      "149           5.9          3.0           5.1          1.8  virginica        1\n",
      "\n",
      "[150 rows x 6 columns]\n"
     ]
    }
   ],
   "source": [
    "df_iris[\"Cluster\"] = modelo.labels_\n",
    "list(set(df_iris[\"Cluster\"]))\n",
    "print(df_iris)"
   ]
  },
  {
   "cell_type": "markdown",
   "metadata": {},
   "source": [
    "Volvemos a graficar, ahora pintando a cada cluster de un color, para poder distinguirlos."
   ]
  },
  {
   "cell_type": "code",
   "execution_count": 158,
   "metadata": {},
   "outputs": [
    {
     "data": {
      "text/plain": [
       "<matplotlib.collections.PathCollection at 0x18d4f206ef0>"
      ]
     },
     "execution_count": 158,
     "metadata": {},
     "output_type": "execute_result"
    },
    {
     "data": {
      "image/png": "[encoded data removed]",
      "text/plain": [
       "<Figure size 432x288 with 1 Axes>"
      ]
     },
     "metadata": {
      "needs_background": "light"
     },
     "output_type": "display_data"
    }
   ],
   "source": [
    "df_iris.loc[df_iris[\"Cluster\"] == 0, \"Color\"] = \"blue\"\n",
    "df_iris.loc[df_iris[\"Cluster\"] == 1, \"Color\"] = \"green\"\n",
    "df_iris.loc[df_iris[\"Cluster\"] == 2, \"Color\"] = \"yellow\"\n",
    "plt.scatter(x = df_iris[\"Sepal.Length\"], y = df_iris[\"Petal.Length\"], c = df_iris[\"Color\"], s = 16)"
   ]
  },
  {
   "cell_type": "markdown",
   "metadata": {},
   "source": [
    "Además nos interesa saber el centroide de cada cluster, pues es el \"representante\" de cada uno."
   ]
  },
  {
   "cell_type": "code",
   "execution_count": 159,
   "metadata": {},
   "outputs": [
    {
     "name": "stdout",
     "output_type": "stream",
     "text": [
      "[[5.006      3.428      1.462      0.246     ]\n",
      " [5.9016129  2.7483871  4.39354839 1.43387097]\n",
      " [6.85       3.07368421 5.74210526 2.07105263]]\n"
     ]
    }
   ],
   "source": [
    "centroides = modelo.cluster_centers_\n",
    "print(centroides)"
   ]
  },
  {
   "cell_type": "markdown",
   "metadata": {},
   "source": [
    "Ahora agreguemos los centroides al data frame para que los podamos incluir en el gráfico."
   ]
  },
  {
   "cell_type": "code",
   "execution_count": 160,
   "metadata": {},
   "outputs": [
    {
     "name": "stdout",
     "output_type": "stream",
     "text": [
      "   Sepal.Length  Sepal.Width  Petal.Length  Petal.Width    Species  Cluster  \\\n",
      "0      5.006000     3.428000      1.462000     0.246000  Centroide        1   \n",
      "1      5.901613     2.748387      4.393548     1.433871  Centroide        2   \n",
      "2      6.850000     3.073684      5.742105     2.071053  Centroide        3   \n",
      "\n",
      "  Color  \n",
      "0   red  \n",
      "1   red  \n",
      "2   red  \n",
      "<class 'pandas.core.frame.DataFrame'>\n",
      "Int64Index: 153 entries, 0 to 2\n",
      "Data columns (total 7 columns):\n",
      "Cluster         153 non-null int64\n",
      "Color           153 non-null object\n",
      "Petal.Length    153 non-null float64\n",
      "Petal.Width     153 non-null float64\n",
      "Sepal.Length    153 non-null float64\n",
      "Sepal.Width     153 non-null float64\n",
      "Species         153 non-null object\n",
      "dtypes: float64(4), int64(1), object(2)\n",
      "memory usage: 9.6+ KB\n"
     ]
    }
   ],
   "source": [
    "df_temp = pd.DataFrame({  \"Sepal.Length\" : centroides[:, 0]\n",
    "                        , \"Sepal.Width\"  : centroides[:, 1]\n",
    "                        , \"Petal.Length\" : centroides[:, 2]\n",
    "                        , \"Petal.Width\"  : centroides[:, 3]\n",
    "                        , \"Species\"      : [\"Centroide\", \"Centroide\", \"Centroide\"]\n",
    "                        , \"Cluster\"      : [1, 2, 3]\n",
    "                        , \"Color\"        : [\"red\", \"red\", \"red\"]\n",
    "                        }\n",
    "                        )\n",
    "print(df_temp)\n",
    "df_iris_centroides = df_iris.append(df_temp, sort = True)\n",
    "df_iris_centroides.info()"
   ]
  },
  {
   "cell_type": "markdown",
   "metadata": {},
   "source": [
    "Ahora volvamos a generar el gráfico, ahora con los centroides incluidos y pintados en rojo."
   ]
  },
  {
   "cell_type": "code",
   "execution_count": 161,
   "metadata": {},
   "outputs": [
    {
     "data": {
      "text/plain": [
       "<matplotlib.collections.PathCollection at 0x18d4f26c438>"
      ]
     },
     "execution_count": 161,
     "metadata": {},
     "output_type": "execute_result"
    },
    {
     "data": {
      "image/png": "[encoded data removed]",
      "text/plain": [
       "<Figure size 432x288 with 1 Axes>"
      ]
     },
     "metadata": {
      "needs_background": "light"
     },
     "output_type": "display_data"
    }
   ],
   "source": [
    "plt.scatter(  x = df_iris_centroides[\"Sepal.Length\"]\n",
    "            , y = df_iris_centroides[\"Petal.Length\"]\n",
    "            , c = df_iris_centroides[\"Color\"]\n",
    "            , s = 16\n",
    "            )"
   ]
  },
  {
   "cell_type": "markdown",
   "metadata": {},
   "source": [
    "Finalmente, pintamos las verdaderas especies con colores para que veamos que tan cercana está la clusterización con las especies. Es importante destacar que solamente podemos hacer esta comparación cuando conocemos la verdadera clasificación en nuestro conjunto de datos. En escendarios reales, la mayoría de las veces no es así."
   ]
  },
  {
   "cell_type": "code",
   "execution_count": 162,
   "metadata": {},
   "outputs": [
    {
     "data": {
      "text/plain": [
       "<matplotlib.collections.PathCollection at 0x18d4f2c9be0>"
      ]
     },
     "execution_count": 162,
     "metadata": {},
     "output_type": "execute_result"
    },
    {
     "data": {
      "image/png": "[encoded data removed]",
      "text/plain": [
       "<Figure size 432x288 with 1 Axes>"
      ]
     },
     "metadata": {
      "needs_background": "light"
     },
     "output_type": "display_data"
    }
   ],
   "source": [
    "df_iris.loc[df_iris[\"Species\"] == \"setosa\", \"ColorSpecies\"] = \"green\"\n",
    "df_iris.loc[df_iris[\"Species\"] == \"versicolor\", \"ColorSpecies\"] = \"blue\"\n",
    "df_iris.loc[df_iris[\"Species\"] == \"virginica\", \"ColorSpecies\"] = \"yellow\"\n",
    "plt.scatter(x = df_iris[\"Sepal.Length\"], y = df_iris[\"Petal.Length\"], c = df_iris[\"ColorSpecies\"], s = 16)"
   ]
  },
  {
   "cell_type": "code",
   "execution_count": null,
   "metadata": {},
   "outputs": [],
   "source": []
  },
  {
   "cell_type": "markdown",
   "metadata": {},
   "source": [
    "Observamos que el gráfico con especies se ve muy similar al de los clusters."
   ]
  },
  {
   "cell_type": "markdown",
   "metadata": {},
   "source": [
    "## Ejercicio\n",
    "\n",
    "Se le entrega un conjunto de datos llamado **estudiantes.csv**. Consiste en información resumida por estudiante de Chile. Tiene las siguientes variables de trayectorias educativas:\n",
    "- Repitencias\n",
    "- Sobreedad\n",
    "- Cambios Establecimiento\n",
    "- Asistencia\"             \n",
    "- Notas\n",
    "- Exclusion\n",
    "\n",
    "Cárguelo en un data frame de Python y realice un análisis de clusterización con 4 clusters. Haga una caracterización verbal de los clusters obtenidos.\n",
    "\n",
    "Puede descargar el archivo de datos de los siguientes enlaces:\n",
    "\n",
    "https://drive.google.com/open?id=1OmvMtJ1qc340pCfCjfoZ_jQTxQalTzu8\n",
    "\n",
    "https://1drv.ms/u/s!AryWb4aW7JhHzqAlYLqE8bZfTmw8nQ?e=N0uC1j\n"
   ]
  },
  {
   "cell_type": "code",
   "execution_count": null,
   "metadata": {},
   "outputs": [],
   "source": []
  }
 ],
 "metadata": {
  "kernelspec": {
   "display_name": "Python 3",
   "language": "python",
   "name": "python3"
  },
  "language_info": {
   "codemirror_mode": {
    "name": "ipython",
    "version": 3
   },
   "file_extension": ".py",
   "mimetype": "text/x-python",
   "name": "python",
   "nbconvert_exporter": "python",
   "pygments_lexer": "ipython3",
   "version": "3.7.3"
  }
 },
 "nbformat": 4,
 "nbformat_minor": 2
}
